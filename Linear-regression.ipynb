{
 "cells": [
  {
   "cell_type": "code",
   "execution_count": 2,
   "id": "11065fb0",
   "metadata": {},
   "outputs": [
    {
     "data": {
      "text/plain": [
       "\n",
       "Call:\n",
       "lm(formula = sales ~ advert)\n",
       "\n",
       "Residuals:\n",
       "         1          2          3          4          5 \n",
       " 4.000e-01 -3.000e-01  1.249e-16 -7.000e-01  6.000e-01 \n",
       "\n",
       "Coefficients:\n",
       "            Estimate Std. Error t value Pr(>|t|)  \n",
       "(Intercept)  -0.1000     0.6351  -0.157   0.8849  \n",
       "advert        0.7000     0.1915   3.656   0.0354 *\n",
       "---\n",
       "Signif. codes:  0 '***' 0.001 '**' 0.01 '*' 0.05 '.' 0.1 ' ' 1\n",
       "\n",
       "Residual standard error: 0.6055 on 3 degrees of freedom\n",
       "Multiple R-squared:  0.8167,\tAdjusted R-squared:  0.7556 \n",
       "F-statistic: 13.36 on 1 and 3 DF,  p-value: 0.03535\n"
      ]
     },
     "metadata": {},
     "output_type": "display_data"
    }
   ],
   "source": [
    "advert = 1:5 \n",
    "sales = c(1,1,2,2,4)\n",
    "reg = lm(sales ~ advert)\n",
    "summary(reg)"
   ]
  },
  {
   "cell_type": "code",
   "execution_count": 6,
   "id": "fb208aa5",
   "metadata": {},
   "outputs": [
    {
     "data": {
      "text/html": [
       "0.903696114115064"
      ],
      "text/latex": [
       "0.903696114115064"
      ],
      "text/markdown": [
       "0.903696114115064"
      ],
      "text/plain": [
       "[1] 0.9036961"
      ]
     },
     "metadata": {},
     "output_type": "display_data"
    }
   ],
   "source": [
    "cor(advert, sales) "
   ]
  },
  {
   "cell_type": "code",
   "execution_count": 7,
   "id": "4b29fd46",
   "metadata": {},
   "outputs": [
    {
     "data": {
      "text/html": [
       "<table>\n",
       "<thead><tr><th></th><th scope=col>2.5 %</th><th scope=col>97.5 %</th></tr></thead>\n",
       "<tbody>\n",
       "\t<tr><th scope=row>(Intercept)</th><td>-2.12112485</td><td>1.921125   </td></tr>\n",
       "\t<tr><th scope=row>advert</th><td> 0.09060793</td><td>1.309392   </td></tr>\n",
       "</tbody>\n",
       "</table>\n"
      ],
      "text/latex": [
       "\\begin{tabular}{r|ll}\n",
       "  & 2.5 \\% & 97.5 \\%\\\\\n",
       "\\hline\n",
       "\t(Intercept) & -2.12112485 & 1.921125   \\\\\n",
       "\tadvert &  0.09060793 & 1.309392   \\\\\n",
       "\\end{tabular}\n"
      ],
      "text/markdown": [
       "\n",
       "| <!--/--> | 2.5 % | 97.5 % |\n",
       "|---|---|---|\n",
       "| (Intercept) | -2.12112485 | 1.921125    |\n",
       "| advert |  0.09060793 | 1.309392    |\n",
       "\n"
      ],
      "text/plain": [
       "            2.5 %       97.5 %  \n",
       "(Intercept) -2.12112485 1.921125\n",
       "advert       0.09060793 1.309392"
      ]
     },
     "metadata": {},
     "output_type": "display_data"
    }
   ],
   "source": [
    "confint(reg) "
   ]
  },
  {
   "cell_type": "code",
   "execution_count": 4,
   "id": "37b754a9",
   "metadata": {},
   "outputs": [
    {
     "name": "stderr",
     "output_type": "stream",
     "text": [
      "Warning message:\n",
      "\"dependency 'pbkrtest' is not available\"also installing the dependencies 'rprojroot', 'fs', 'diffobj', 'rematch2', 'brio', 'callr', 'desc', 'ellipsis', 'pkgload', 'praise', 'processx', 'ps', 'waldo', 'testthat', 'colorspace', 'utf8', 'Matrix', 'SparseM', 'MatrixModels', 'survival', 'lattice', 'boot', 'minqa', 'nloptr', 'RcppEigen', 'farver', 'labeling', 'munsell', 'R6', 'RColorBrewer', 'viridisLite', 'fansi', 'magrittr', 'pillar', 'pkgconfig', 'carData', 'abind', 'MASS', 'mgcv', 'nnet', 'quantreg', 'lme4', 'nlme', 'scales', 'cli', 'glue', 'gtable', 'isoband', 'lifecycle', 'rlang', 'tibble', 'vctrs', 'withr', 'car', 'data.table', 'ggplot2', 'goftest', 'gridExtra', 'nortest'\n",
      "\n"
     ]
    },
    {
     "name": "stdout",
     "output_type": "stream",
     "text": [
      "\n",
      "  There are binary versions available but the source versions are later:\n",
      "                binary    source needs_compilation\n",
      "rprojroot        2.0.2     2.0.3             FALSE\n",
      "fs               1.5.0     1.6.1              TRUE\n",
      "diffobj          0.3.4     0.3.5              TRUE\n",
      "brio             1.1.2     1.1.3              TRUE\n",
      "callr            3.7.0     3.7.3             FALSE\n",
      "desc             1.3.0     1.4.2             FALSE\n",
      "pkgload          1.2.1     1.3.2             FALSE\n",
      "processx         3.5.2     3.8.0              TRUE\n",
      "ps               1.6.0     1.7.2              TRUE\n",
      "waldo            0.2.5     0.4.0             FALSE\n",
      "testthat         3.0.2     3.1.6              TRUE\n",
      "colorspace       2.0-1     2.1-0              TRUE\n",
      "utf8             1.2.1     1.2.3              TRUE\n",
      "Matrix           1.3-3     1.5-3              TRUE\n",
      "MatrixModels     0.5-0     0.5-1             FALSE\n",
      "survival        3.2-11     3.5-3              TRUE\n",
      "lattice        0.20-44   0.20-45              TRUE\n",
      "boot            1.3-28  1.3-28.1             FALSE\n",
      "minqa            1.2.4     1.2.5              TRUE\n",
      "nloptr         1.2.2.2     2.0.3              TRUE\n",
      "RcppEigen    0.3.3.9.1 0.3.3.9.3              TRUE\n",
      "farver           2.1.0     2.1.1              TRUE\n",
      "R6               2.5.0     2.5.1             FALSE\n",
      "RColorBrewer     1.1-2     1.1-3             FALSE\n",
      "viridisLite      0.4.0     0.4.1             FALSE\n",
      "fansi            0.4.2     1.0.4              TRUE\n",
      "magrittr         2.0.1     2.0.3              TRUE\n",
      "pillar           1.6.0     1.8.1             FALSE\n",
      "carData          3.0-4     3.0-5             FALSE\n",
      "MASS            7.3-54  7.3-58.2              TRUE\n",
      "mgcv            1.8-35    1.8-41              TRUE\n",
      "nnet            7.3-16    7.3-18              TRUE\n",
      "quantreg          5.85      5.94              TRUE\n",
      "lme4            1.1-26    1.1-31              TRUE\n",
      "nlme           3.1-152   3.1-162              TRUE\n",
      "scales           1.1.1     1.2.1             FALSE\n",
      "cli              2.5.0     3.6.0              TRUE\n",
      "glue             1.4.2     1.6.2              TRUE\n",
      "gtable           0.3.0     0.3.1             FALSE\n",
      "isoband          0.2.4     0.2.7              TRUE\n",
      "lifecycle        1.0.0     1.0.3             FALSE\n",
      "rlang           0.4.11     1.0.6              TRUE\n",
      "tibble           3.1.1     3.1.8              TRUE\n",
      "vctrs            0.3.8     0.5.2              TRUE\n",
      "withr            2.4.2     2.5.0             FALSE\n",
      "car             3.0-10     3.1-1             FALSE\n",
      "data.table      1.14.0    1.14.8              TRUE\n",
      "ggplot2          3.3.3     3.4.1             FALSE\n",
      "goftest          1.2-2     1.2-3              TRUE\n",
      "\n",
      "  Binaries will be installed\n",
      "package 'fs' successfully unpacked and MD5 sums checked\n",
      "package 'diffobj' successfully unpacked and MD5 sums checked\n",
      "package 'rematch2' successfully unpacked and MD5 sums checked\n",
      "package 'brio' successfully unpacked and MD5 sums checked\n",
      "package 'ellipsis' successfully unpacked and MD5 sums checked\n",
      "package 'praise' successfully unpacked and MD5 sums checked\n",
      "package 'processx' successfully unpacked and MD5 sums checked\n",
      "package 'ps' successfully unpacked and MD5 sums checked\n",
      "package 'testthat' successfully unpacked and MD5 sums checked\n",
      "package 'colorspace' successfully unpacked and MD5 sums checked\n",
      "package 'utf8' successfully unpacked and MD5 sums checked\n",
      "package 'Matrix' successfully unpacked and MD5 sums checked\n",
      "package 'SparseM' successfully unpacked and MD5 sums checked\n",
      "package 'survival' successfully unpacked and MD5 sums checked\n",
      "package 'lattice' successfully unpacked and MD5 sums checked\n",
      "package 'minqa' successfully unpacked and MD5 sums checked\n",
      "package 'nloptr' successfully unpacked and MD5 sums checked\n",
      "package 'RcppEigen' successfully unpacked and MD5 sums checked\n",
      "package 'farver' successfully unpacked and MD5 sums checked\n",
      "package 'labeling' successfully unpacked and MD5 sums checked\n",
      "package 'munsell' successfully unpacked and MD5 sums checked\n",
      "package 'fansi' successfully unpacked and MD5 sums checked\n",
      "package 'magrittr' successfully unpacked and MD5 sums checked\n",
      "package 'pkgconfig' successfully unpacked and MD5 sums checked\n",
      "package 'abind' successfully unpacked and MD5 sums checked\n",
      "package 'MASS' successfully unpacked and MD5 sums checked\n",
      "package 'mgcv' successfully unpacked and MD5 sums checked\n",
      "package 'nnet' successfully unpacked and MD5 sums checked\n",
      "package 'quantreg' successfully unpacked and MD5 sums checked\n",
      "package 'lme4' successfully unpacked and MD5 sums checked\n",
      "package 'nlme' successfully unpacked and MD5 sums checked\n",
      "package 'cli' successfully unpacked and MD5 sums checked\n",
      "package 'glue' successfully unpacked and MD5 sums checked\n",
      "package 'isoband' successfully unpacked and MD5 sums checked\n",
      "package 'rlang' successfully unpacked and MD5 sums checked\n",
      "package 'tibble' successfully unpacked and MD5 sums checked\n",
      "package 'vctrs' successfully unpacked and MD5 sums checked\n",
      "package 'data.table' successfully unpacked and MD5 sums checked\n",
      "package 'goftest' successfully unpacked and MD5 sums checked\n",
      "package 'gridExtra' successfully unpacked and MD5 sums checked\n",
      "package 'nortest' successfully unpacked and MD5 sums checked\n",
      "package 'olsrr' successfully unpacked and MD5 sums checked\n",
      "\n",
      "The downloaded binary packages are in\n",
      "\tC:\\Users\\Rachel\\AppData\\Local\\Temp\\Rtmpui3lmO\\downloaded_packages\n"
     ]
    },
    {
     "name": "stderr",
     "output_type": "stream",
     "text": [
      "installing the source packages 'rprojroot', 'callr', 'desc', 'pkgload', 'waldo', 'MatrixModels', 'boot', 'R6', 'RColorBrewer', 'viridisLite', 'pillar', 'carData', 'scales', 'gtable', 'lifecycle', 'withr', 'car', 'ggplot2'\n",
      "\n",
      "Warning message in install.packages(\"olsrr\"):\n",
      "\"installation of package 'waldo' had non-zero exit status\"Warning message in install.packages(\"olsrr\"):\n",
      "\"installation of package 'MatrixModels' had non-zero exit status\"Warning message in install.packages(\"olsrr\"):\n",
      "\"installation of package 'lifecycle' had non-zero exit status\"Warning message in install.packages(\"olsrr\"):\n",
      "\"installation of package 'callr' had non-zero exit status\"Warning message in install.packages(\"olsrr\"):\n",
      "\"installation of package 'pillar' had non-zero exit status\"Warning message in install.packages(\"olsrr\"):\n",
      "\"installation of package 'scales' had non-zero exit status\"Warning message in install.packages(\"olsrr\"):\n",
      "\"installation of package 'pkgload' had non-zero exit status\"Warning message in install.packages(\"olsrr\"):\n",
      "\"installation of package 'car' had non-zero exit status\"Warning message in install.packages(\"olsrr\"):\n",
      "\"installation of package 'ggplot2' had non-zero exit status\""
     ]
    }
   ],
   "source": [
    "install.packages(\"olsrr\")\n"
   ]
  },
  {
   "cell_type": "code",
   "execution_count": null,
   "id": "bdc07f6d",
   "metadata": {},
   "outputs": [],
   "source": [
    "ibrary(olsrr)\n"
   ]
  },
  {
   "cell_type": "code",
   "execution_count": null,
   "id": "66a45de0",
   "metadata": {},
   "outputs": [],
   "source": [
    "ols_regress(reg) "
   ]
  }
 ],
 "metadata": {
  "kernelspec": {
   "display_name": "R",
   "language": "R",
   "name": "ir"
  },
  "language_info": {
   "codemirror_mode": "r",
   "file_extension": ".r",
   "mimetype": "text/x-r-source",
   "name": "R",
   "pygments_lexer": "r",
   "version": "3.6.1"
  }
 },
 "nbformat": 4,
 "nbformat_minor": 5
}

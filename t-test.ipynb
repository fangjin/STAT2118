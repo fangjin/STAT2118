{
 "cells": [
  {
   "cell_type": "code",
   "execution_count": 1,
   "id": "9b31c627",
   "metadata": {},
   "outputs": [],
   "source": [
    "emission = c(15.6, 16.2, 22.5, 20.5, 16.4, 19.4, 19.6, 17.9, 12.7, 14.9)"
   ]
  },
  {
   "cell_type": "code",
   "execution_count": 6,
   "id": "1c2cae16",
   "metadata": {},
   "outputs": [
    {
     "data": {
      "text/html": [
       "17.57"
      ],
      "text/latex": [
       "17.57"
      ],
      "text/markdown": [
       "17.57"
      ],
      "text/plain": [
       "[1] 17.57"
      ]
     },
     "metadata": {},
     "output_type": "display_data"
    },
    {
     "data": {
      "text/html": [
       "2.95223079495263"
      ],
      "text/latex": [
       "2.95223079495263"
      ],
      "text/markdown": [
       "2.95223079495263"
      ],
      "text/plain": [
       "[1] 2.952231"
      ]
     },
     "metadata": {},
     "output_type": "display_data"
    },
    {
     "data": {
      "text/html": [
       "-2.60289161556151"
      ],
      "text/latex": [
       "-2.60289161556151"
      ],
      "text/markdown": [
       "-2.60289161556151"
      ],
      "text/plain": [
       "[1] -2.602892"
      ]
     },
     "metadata": {},
     "output_type": "display_data"
    }
   ],
   "source": [
    "mean(emission)\n",
    "sd(emission)\n",
    "t_star = (17.57 - 20)/(2.95223/ sqrt(10) )\n",
    "\n",
    "t_star\n"
   ]
  },
  {
   "cell_type": "code",
   "execution_count": null,
   "id": "63576b11",
   "metadata": {},
   "outputs": [],
   "source": [
    "#𝑡(1−𝛼;𝑛−1) \n",
    "# t(0.95, 9)"
   ]
  },
  {
   "cell_type": "code",
   "execution_count": 2,
   "id": "017422e1",
   "metadata": {},
   "outputs": [
    {
     "data": {
      "text/html": [
       "-1.83311293265624"
      ],
      "text/latex": [
       "-1.83311293265624"
      ],
      "text/markdown": [
       "-1.83311293265624"
      ],
      "text/plain": [
       "[1] -1.833113"
      ]
     },
     "metadata": {},
     "output_type": "display_data"
    }
   ],
   "source": [
    "qt(0.05, 9)"
   ]
  },
  {
   "cell_type": "code",
   "execution_count": 3,
   "id": "c6c4ca52",
   "metadata": {},
   "outputs": [
    {
     "data": {
      "text/html": [
       "0"
      ],
      "text/latex": [
       "0"
      ],
      "text/markdown": [
       "0"
      ],
      "text/plain": [
       "[1] 0"
      ]
     },
     "metadata": {},
     "output_type": "display_data"
    }
   ],
   "source": [
    "qt(0.5, 9)"
   ]
  },
  {
   "cell_type": "code",
   "execution_count": 9,
   "id": "0b29764b",
   "metadata": {},
   "outputs": [
    {
     "data": {
      "text/plain": [
       "\n",
       "\tOne Sample t-test\n",
       "\n",
       "data:  emission\n",
       "t = 3.6944, df = 9, p-value = 0.004963\n",
       "alternative hypothesis: true mean is not equal to 20\n",
       "95 percent confidence interval:\n",
       " 21.38402 25.75598\n",
       "sample estimates:\n",
       "mean of x \n",
       "    23.57 \n"
      ]
     },
     "metadata": {},
     "output_type": "display_data"
    }
   ],
   "source": [
    "emission = c(25.6, 26.2, 22.5, 20.5, 26.4, 19.4, 19.6, 27.9, 22.7, 24.9)\n",
    "\n",
    "t.test(emission, mu = 20, conf.level = 0.95)\n",
    "\n"
   ]
  },
  {
   "cell_type": "code",
   "execution_count": 22,
   "id": "b254ae29",
   "metadata": {},
   "outputs": [
    {
     "data": {
      "text/plain": [
       "\n",
       "\tOne Sample t-test\n",
       "\n",
       "data:  emission\n",
       "t = -2.6029, df = 9, p-value = 0.0143\n",
       "alternative hypothesis: true mean is less than 20\n",
       "99 percent confidence interval:\n",
       "     -Inf 20.20403\n",
       "sample estimates:\n",
       "mean of x \n",
       "    17.57 \n"
      ]
     },
     "metadata": {},
     "output_type": "display_data"
    }
   ],
   "source": [
    "emission = c(15.6, 16.2, 22.5, 20.5, 16.4, 19.4, 19.6, 17.9, 12.7, 14.9)\n",
    "t.test(emission, mu = 20, alternative = \"less\", conf.level = 0.99)"
   ]
  },
  {
   "cell_type": "code",
   "execution_count": 20,
   "id": "7d1d2d30",
   "metadata": {},
   "outputs": [],
   "source": [
    "score = c(15.6,  16.2,  22.5,  20.5,  16.4,  19.4,  16.6,  17.9,  12.7,  13.9)"
   ]
  },
  {
   "cell_type": "code",
   "execution_count": null,
   "id": "ca90b0d2",
   "metadata": {},
   "outputs": [],
   "source": []
  },
  {
   "cell_type": "code",
   "execution_count": 13,
   "id": "42f07720",
   "metadata": {},
   "outputs": [
    {
     "data": {
      "text/html": [
       "17.17"
      ],
      "text/latex": [
       "17.17"
      ],
      "text/markdown": [
       "17.17"
      ],
      "text/plain": [
       "[1] 17.17"
      ]
     },
     "metadata": {},
     "output_type": "display_data"
    }
   ],
   "source": [
    "mean(score)"
   ]
  },
  {
   "cell_type": "code",
   "execution_count": 14,
   "id": "27b6c4ca",
   "metadata": {},
   "outputs": [
    {
     "data": {
      "text/html": [
       "2.9814426038413"
      ],
      "text/latex": [
       "2.9814426038413"
      ],
      "text/markdown": [
       "2.9814426038413"
      ],
      "text/plain": [
       "[1] 2.981443"
      ]
     },
     "metadata": {},
     "output_type": "display_data"
    }
   ],
   "source": [
    "sd(score)"
   ]
  },
  {
   "cell_type": "code",
   "execution_count": 19,
   "id": "80ea2609",
   "metadata": {},
   "outputs": [
    {
     "data": {
      "text/html": [
       "-3.00309533557047"
      ],
      "text/latex": [
       "-3.00309533557047"
      ],
      "text/markdown": [
       "-3.00309533557047"
      ],
      "text/plain": [
       "[1] -3.003095"
      ]
     },
     "metadata": {},
     "output_type": "display_data"
    }
   ],
   "source": [
    "t_s = (17.17-20)/(2.98/3.16227)\n",
    "t_s "
   ]
  },
  {
   "cell_type": "code",
   "execution_count": 16,
   "id": "34800d00",
   "metadata": {},
   "outputs": [
    {
     "data": {
      "text/html": [
       "3.16227766016838"
      ],
      "text/latex": [
       "3.16227766016838"
      ],
      "text/markdown": [
       "3.16227766016838"
      ],
      "text/plain": [
       "[1] 3.162278"
      ]
     },
     "metadata": {},
     "output_type": "display_data"
    }
   ],
   "source": [
    "sqrt(10)"
   ]
  },
  {
   "cell_type": "code",
   "execution_count": 24,
   "id": "f98857b3",
   "metadata": {},
   "outputs": [
    {
     "data": {
      "text/html": [
       "3.24983554159213"
      ],
      "text/latex": [
       "3.24983554159213"
      ],
      "text/markdown": [
       "3.24983554159213"
      ],
      "text/plain": [
       "[1] 3.249836"
      ]
     },
     "metadata": {},
     "output_type": "display_data"
    }
   ],
   "source": [
    "qt(0.995, 9)"
   ]
  },
  {
   "cell_type": "code",
   "execution_count": 25,
   "id": "160d3c04",
   "metadata": {},
   "outputs": [
    {
     "data": {
      "text/plain": [
       "\n",
       "\tOne Sample t-test\n",
       "\n",
       "data:  score\n",
       "t = -3.0016, df = 9, p-value = 0.01492\n",
       "alternative hypothesis: true mean is not equal to 20\n",
       "99 percent confidence interval:\n",
       " 14.10601 20.23399\n",
       "sample estimates:\n",
       "mean of x \n",
       "    17.17 \n"
      ]
     },
     "metadata": {},
     "output_type": "display_data"
    }
   ],
   "source": [
    "t.test(score, mu = 20, alternative = \"two.sided\", conf.level = 0.99 )"
   ]
  }
 ],
 "metadata": {
  "kernelspec": {
   "display_name": "R",
   "language": "R",
   "name": "ir"
  },
  "language_info": {
   "codemirror_mode": "r",
   "file_extension": ".r",
   "mimetype": "text/x-r-source",
   "name": "R",
   "pygments_lexer": "r",
   "version": "3.6.1"
  }
 },
 "nbformat": 4,
 "nbformat_minor": 5
}

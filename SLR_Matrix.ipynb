{
 "cells": [
  {
   "cell_type": "code",
   "execution_count": 1,
   "id": "bc3b7513",
   "metadata": {},
   "outputs": [],
   "source": [
    "advert = 1:5\n",
    "sales = c(1, 1, 2, 2, 4)\n"
   ]
  },
  {
   "cell_type": "code",
   "execution_count": 3,
   "id": "96034b65",
   "metadata": {},
   "outputs": [
    {
     "data": {
      "text/html": [
       "<ol class=list-inline>\n",
       "\t<li>1</li>\n",
       "\t<li>1</li>\n",
       "\t<li>1</li>\n",
       "\t<li>1</li>\n",
       "\t<li>1</li>\n",
       "</ol>\n"
      ],
      "text/latex": [
       "\\begin{enumerate*}\n",
       "\\item 1\n",
       "\\item 1\n",
       "\\item 1\n",
       "\\item 1\n",
       "\\item 1\n",
       "\\end{enumerate*}\n"
      ],
      "text/markdown": [
       "1. 1\n",
       "2. 1\n",
       "3. 1\n",
       "4. 1\n",
       "5. 1\n",
       "\n",
       "\n"
      ],
      "text/plain": [
       "[1] 1 1 1 1 1"
      ]
     },
     "metadata": {},
     "output_type": "display_data"
    }
   ],
   "source": [
    "rep(1, 5)"
   ]
  },
  {
   "cell_type": "code",
   "execution_count": 4,
   "id": "012d98b6",
   "metadata": {},
   "outputs": [
    {
     "data": {
      "text/html": [
       "<ol class=list-inline>\n",
       "\t<li>1</li>\n",
       "\t<li>1</li>\n",
       "\t<li>1</li>\n",
       "\t<li>1</li>\n",
       "\t<li>1</li>\n",
       "\t<li>1</li>\n",
       "\t<li>2</li>\n",
       "\t<li>3</li>\n",
       "\t<li>4</li>\n",
       "\t<li>5</li>\n",
       "</ol>\n"
      ],
      "text/latex": [
       "\\begin{enumerate*}\n",
       "\\item 1\n",
       "\\item 1\n",
       "\\item 1\n",
       "\\item 1\n",
       "\\item 1\n",
       "\\item 1\n",
       "\\item 2\n",
       "\\item 3\n",
       "\\item 4\n",
       "\\item 5\n",
       "\\end{enumerate*}\n"
      ],
      "text/markdown": [
       "1. 1\n",
       "2. 1\n",
       "3. 1\n",
       "4. 1\n",
       "5. 1\n",
       "6. 1\n",
       "7. 2\n",
       "8. 3\n",
       "9. 4\n",
       "10. 5\n",
       "\n",
       "\n"
      ],
      "text/plain": [
       " [1] 1 1 1 1 1 1 2 3 4 5"
      ]
     },
     "metadata": {},
     "output_type": "display_data"
    }
   ],
   "source": [
    "c(rep(1, 5), advert)"
   ]
  },
  {
   "cell_type": "code",
   "execution_count": 5,
   "id": "ba8ae3d6",
   "metadata": {},
   "outputs": [
    {
     "data": {
      "text/html": [
       "<table>\n",
       "<tbody>\n",
       "\t<tr><td>1</td><td>1</td></tr>\n",
       "\t<tr><td>1</td><td>2</td></tr>\n",
       "\t<tr><td>1</td><td>3</td></tr>\n",
       "\t<tr><td>1</td><td>4</td></tr>\n",
       "\t<tr><td>1</td><td>5</td></tr>\n",
       "</tbody>\n",
       "</table>\n"
      ],
      "text/latex": [
       "\\begin{tabular}{ll}\n",
       "\t 1 & 1\\\\\n",
       "\t 1 & 2\\\\\n",
       "\t 1 & 3\\\\\n",
       "\t 1 & 4\\\\\n",
       "\t 1 & 5\\\\\n",
       "\\end{tabular}\n"
      ],
      "text/markdown": [
       "\n",
       "| 1 | 1 |\n",
       "| 1 | 2 |\n",
       "| 1 | 3 |\n",
       "| 1 | 4 |\n",
       "| 1 | 5 |\n",
       "\n"
      ],
      "text/plain": [
       "     [,1] [,2]\n",
       "[1,] 1    1   \n",
       "[2,] 1    2   \n",
       "[3,] 1    3   \n",
       "[4,] 1    4   \n",
       "[5,] 1    5   "
      ]
     },
     "metadata": {},
     "output_type": "display_data"
    }
   ],
   "source": [
    "matrix(c(rep(1, 5), advert), 5, 2)"
   ]
  },
  {
   "cell_type": "code",
   "execution_count": 14,
   "id": "f5eac2ad",
   "metadata": {},
   "outputs": [],
   "source": [
    "X = matrix(c(rep(1, 5), advert), 5, 2)\n",
    "Y = matrix(sales, 5, 1)"
   ]
  },
  {
   "cell_type": "code",
   "execution_count": 15,
   "id": "91044e16",
   "metadata": {},
   "outputs": [
    {
     "data": {
      "text/html": [
       "<table>\n",
       "<tbody>\n",
       "\t<tr><td>1</td></tr>\n",
       "\t<tr><td>1</td></tr>\n",
       "\t<tr><td>2</td></tr>\n",
       "\t<tr><td>2</td></tr>\n",
       "\t<tr><td>4</td></tr>\n",
       "</tbody>\n",
       "</table>\n"
      ],
      "text/latex": [
       "\\begin{tabular}{l}\n",
       "\t 1\\\\\n",
       "\t 1\\\\\n",
       "\t 2\\\\\n",
       "\t 2\\\\\n",
       "\t 4\\\\\n",
       "\\end{tabular}\n"
      ],
      "text/markdown": [
       "\n",
       "| 1 |\n",
       "| 1 |\n",
       "| 2 |\n",
       "| 2 |\n",
       "| 4 |\n",
       "\n"
      ],
      "text/plain": [
       "     [,1]\n",
       "[1,] 1   \n",
       "[2,] 1   \n",
       "[3,] 2   \n",
       "[4,] 2   \n",
       "[5,] 4   "
      ]
     },
     "metadata": {},
     "output_type": "display_data"
    }
   ],
   "source": [
    "Y"
   ]
  },
  {
   "cell_type": "markdown",
   "id": "44283c91",
   "metadata": {},
   "source": [
    "𝐛=〖(𝐗′ 𝐗)〗^(−𝟏) 𝐗^′ 𝐘"
   ]
  },
  {
   "cell_type": "code",
   "execution_count": 16,
   "id": "00292215",
   "metadata": {},
   "outputs": [
    {
     "data": {
      "text/html": [
       "<table>\n",
       "<tbody>\n",
       "\t<tr><td>1</td><td>1</td><td>1</td><td>1</td><td>1</td></tr>\n",
       "\t<tr><td>1</td><td>2</td><td>3</td><td>4</td><td>5</td></tr>\n",
       "</tbody>\n",
       "</table>\n"
      ],
      "text/latex": [
       "\\begin{tabular}{lllll}\n",
       "\t 1 & 1 & 1 & 1 & 1\\\\\n",
       "\t 1 & 2 & 3 & 4 & 5\\\\\n",
       "\\end{tabular}\n"
      ],
      "text/markdown": [
       "\n",
       "| 1 | 1 | 1 | 1 | 1 |\n",
       "| 1 | 2 | 3 | 4 | 5 |\n",
       "\n"
      ],
      "text/plain": [
       "     [,1] [,2] [,3] [,4] [,5]\n",
       "[1,] 1    1    1    1    1   \n",
       "[2,] 1    2    3    4    5   "
      ]
     },
     "metadata": {},
     "output_type": "display_data"
    }
   ],
   "source": [
    "t(X) #trasnpose of matrix X"
   ]
  },
  {
   "cell_type": "code",
   "execution_count": 17,
   "id": "61325e79",
   "metadata": {},
   "outputs": [
    {
     "data": {
      "text/html": [
       "<table>\n",
       "<tbody>\n",
       "\t<tr><td> 5</td><td>15</td></tr>\n",
       "\t<tr><td>15</td><td>55</td></tr>\n",
       "</tbody>\n",
       "</table>\n"
      ],
      "text/latex": [
       "\\begin{tabular}{ll}\n",
       "\t  5 & 15\\\\\n",
       "\t 15 & 55\\\\\n",
       "\\end{tabular}\n"
      ],
      "text/markdown": [
       "\n",
       "|  5 | 15 |\n",
       "| 15 | 55 |\n",
       "\n"
      ],
      "text/plain": [
       "     [,1] [,2]\n",
       "[1,]  5   15  \n",
       "[2,] 15   55  "
      ]
     },
     "metadata": {},
     "output_type": "display_data"
    }
   ],
   "source": [
    "t(X) %*% X"
   ]
  },
  {
   "cell_type": "code",
   "execution_count": 18,
   "id": "254a3f1a",
   "metadata": {},
   "outputs": [
    {
     "data": {
      "text/html": [
       "<table>\n",
       "<tbody>\n",
       "\t<tr><td> 1.1</td><td>-0.3</td></tr>\n",
       "\t<tr><td>-0.3</td><td> 0.1</td></tr>\n",
       "</tbody>\n",
       "</table>\n"
      ],
      "text/latex": [
       "\\begin{tabular}{ll}\n",
       "\t  1.1 & -0.3\\\\\n",
       "\t -0.3 &  0.1\\\\\n",
       "\\end{tabular}\n"
      ],
      "text/markdown": [
       "\n",
       "|  1.1 | -0.3 |\n",
       "| -0.3 |  0.1 |\n",
       "\n"
      ],
      "text/plain": [
       "     [,1] [,2]\n",
       "[1,]  1.1 -0.3\n",
       "[2,] -0.3  0.1"
      ]
     },
     "metadata": {},
     "output_type": "display_data"
    }
   ],
   "source": [
    "solve(t(X) %*% X)"
   ]
  },
  {
   "cell_type": "code",
   "execution_count": 21,
   "id": "8ef3b24c",
   "metadata": {},
   "outputs": [
    {
     "data": {
      "text/html": [
       "<table>\n",
       "<tbody>\n",
       "\t<tr><td>10</td></tr>\n",
       "\t<tr><td>37</td></tr>\n",
       "</tbody>\n",
       "</table>\n"
      ],
      "text/latex": [
       "\\begin{tabular}{l}\n",
       "\t 10\\\\\n",
       "\t 37\\\\\n",
       "\\end{tabular}\n"
      ],
      "text/markdown": [
       "\n",
       "| 10 |\n",
       "| 37 |\n",
       "\n"
      ],
      "text/plain": [
       "     [,1]\n",
       "[1,] 10  \n",
       "[2,] 37  "
      ]
     },
     "metadata": {},
     "output_type": "display_data"
    }
   ],
   "source": [
    "t(X)%*%Y"
   ]
  },
  {
   "cell_type": "code",
   "execution_count": 22,
   "id": "735b9bd3",
   "metadata": {},
   "outputs": [],
   "source": [
    "b = solve(t(X) %*% X) %*% t(X)%*%Y"
   ]
  },
  {
   "cell_type": "code",
   "execution_count": 23,
   "id": "67e44bcd",
   "metadata": {},
   "outputs": [
    {
     "data": {
      "text/html": [
       "<table>\n",
       "<tbody>\n",
       "\t<tr><td>-0.1</td></tr>\n",
       "\t<tr><td> 0.7</td></tr>\n",
       "</tbody>\n",
       "</table>\n"
      ],
      "text/latex": [
       "\\begin{tabular}{l}\n",
       "\t -0.1\\\\\n",
       "\t  0.7\\\\\n",
       "\\end{tabular}\n"
      ],
      "text/markdown": [
       "\n",
       "| -0.1 |\n",
       "|  0.7 |\n",
       "\n"
      ],
      "text/plain": [
       "     [,1]\n",
       "[1,] -0.1\n",
       "[2,]  0.7"
      ]
     },
     "metadata": {},
     "output_type": "display_data"
    }
   ],
   "source": [
    "b"
   ]
  },
  {
   "cell_type": "code",
   "execution_count": 24,
   "id": "aa788d0d",
   "metadata": {},
   "outputs": [
    {
     "data": {
      "text/html": [
       "<table>\n",
       "<tbody>\n",
       "\t<tr><td>0.6</td></tr>\n",
       "\t<tr><td>1.3</td></tr>\n",
       "\t<tr><td>2.0</td></tr>\n",
       "\t<tr><td>2.7</td></tr>\n",
       "\t<tr><td>3.4</td></tr>\n",
       "</tbody>\n",
       "</table>\n"
      ],
      "text/latex": [
       "\\begin{tabular}{l}\n",
       "\t 0.6\\\\\n",
       "\t 1.3\\\\\n",
       "\t 2.0\\\\\n",
       "\t 2.7\\\\\n",
       "\t 3.4\\\\\n",
       "\\end{tabular}\n"
      ],
      "text/markdown": [
       "\n",
       "| 0.6 |\n",
       "| 1.3 |\n",
       "| 2.0 |\n",
       "| 2.7 |\n",
       "| 3.4 |\n",
       "\n"
      ],
      "text/plain": [
       "     [,1]\n",
       "[1,] 0.6 \n",
       "[2,] 1.3 \n",
       "[3,] 2.0 \n",
       "[4,] 2.7 \n",
       "[5,] 3.4 "
      ]
     },
     "metadata": {},
     "output_type": "display_data"
    }
   ],
   "source": [
    "# Y^ = Xb\n",
    "Yhat = X%*%b\n",
    "Yhat\n"
   ]
  },
  {
   "cell_type": "code",
   "execution_count": 25,
   "id": "f2443463",
   "metadata": {},
   "outputs": [
    {
     "data": {
      "text/html": [
       "<table>\n",
       "<tbody>\n",
       "\t<tr><td> 4.000000e-01</td></tr>\n",
       "\t<tr><td>-3.000000e-01</td></tr>\n",
       "\t<tr><td>-3.108624e-15</td></tr>\n",
       "\t<tr><td>-7.000000e-01</td></tr>\n",
       "\t<tr><td> 6.000000e-01</td></tr>\n",
       "</tbody>\n",
       "</table>\n"
      ],
      "text/latex": [
       "\\begin{tabular}{l}\n",
       "\t  4.000000e-01\\\\\n",
       "\t -3.000000e-01\\\\\n",
       "\t -3.108624e-15\\\\\n",
       "\t -7.000000e-01\\\\\n",
       "\t  6.000000e-01\\\\\n",
       "\\end{tabular}\n"
      ],
      "text/markdown": [
       "\n",
       "|  4.000000e-01 |\n",
       "| -3.000000e-01 |\n",
       "| -3.108624e-15 |\n",
       "| -7.000000e-01 |\n",
       "|  6.000000e-01 |\n",
       "\n"
      ],
      "text/plain": [
       "     [,1]         \n",
       "[1,]  4.000000e-01\n",
       "[2,] -3.000000e-01\n",
       "[3,] -3.108624e-15\n",
       "[4,] -7.000000e-01\n",
       "[5,]  6.000000e-01"
      ]
     },
     "metadata": {},
     "output_type": "display_data"
    }
   ],
   "source": [
    "e = Y - Yhat\n",
    "e"
   ]
  },
  {
   "cell_type": "code",
   "execution_count": 26,
   "id": "765f0450",
   "metadata": {},
   "outputs": [
    {
     "data": {
      "text/html": [
       "<table>\n",
       "<tbody>\n",
       "\t<tr><td>1.1</td></tr>\n",
       "</tbody>\n",
       "</table>\n"
      ],
      "text/latex": [
       "\\begin{tabular}{l}\n",
       "\t 1.1\\\\\n",
       "\\end{tabular}\n"
      ],
      "text/markdown": [
       "\n",
       "| 1.1 |\n",
       "\n"
      ],
      "text/plain": [
       "     [,1]\n",
       "[1,] 1.1 "
      ]
     },
     "metadata": {},
     "output_type": "display_data"
    }
   ],
   "source": [
    "SSE = t(e)%*%e\n",
    "SSE"
   ]
  },
  {
   "cell_type": "code",
   "execution_count": 43,
   "id": "fb31c289",
   "metadata": {},
   "outputs": [
    {
     "data": {
      "text/html": [
       "<table>\n",
       "<tbody>\n",
       "\t<tr><td>0.3666667</td></tr>\n",
       "</tbody>\n",
       "</table>\n"
      ],
      "text/latex": [
       "\\begin{tabular}{l}\n",
       "\t 0.3666667\\\\\n",
       "\\end{tabular}\n"
      ],
      "text/markdown": [
       "\n",
       "| 0.3666667 |\n",
       "\n"
      ],
      "text/plain": [
       "     [,1]     \n",
       "[1,] 0.3666667"
      ]
     },
     "metadata": {},
     "output_type": "display_data"
    }
   ],
   "source": [
    "#MSE\n",
    "s2 = SSE/3 \n",
    "s2"
   ]
  },
  {
   "cell_type": "code",
   "execution_count": 37,
   "id": "79f57114",
   "metadata": {},
   "outputs": [
    {
     "data": {
      "text/html": [
       "<table>\n",
       "<tbody>\n",
       "\t<tr><td> 1.1</td><td>-0.3</td></tr>\n",
       "\t<tr><td>-0.3</td><td> 0.1</td></tr>\n",
       "</tbody>\n",
       "</table>\n"
      ],
      "text/latex": [
       "\\begin{tabular}{ll}\n",
       "\t  1.1 & -0.3\\\\\n",
       "\t -0.3 &  0.1\\\\\n",
       "\\end{tabular}\n"
      ],
      "text/markdown": [
       "\n",
       "|  1.1 | -0.3 |\n",
       "| -0.3 |  0.1 |\n",
       "\n"
      ],
      "text/plain": [
       "     [,1] [,2]\n",
       "[1,]  1.1 -0.3\n",
       "[2,] -0.3  0.1"
      ]
     },
     "metadata": {},
     "output_type": "display_data"
    }
   ],
   "source": [
    "part1  = solve(t(X) %*% X)\n",
    "part1"
   ]
  },
  {
   "cell_type": "code",
   "execution_count": 45,
   "id": "0f471743",
   "metadata": {},
   "outputs": [
    {
     "data": {
      "text/html": [
       "<table>\n",
       "<tbody>\n",
       "\t<tr><td> 0.4033333 </td><td>-0.11000000</td></tr>\n",
       "\t<tr><td>-0.1100000 </td><td> 0.03666667</td></tr>\n",
       "</tbody>\n",
       "</table>\n"
      ],
      "text/latex": [
       "\\begin{tabular}{ll}\n",
       "\t  0.4033333  & -0.11000000\\\\\n",
       "\t -0.1100000  &  0.03666667\\\\\n",
       "\\end{tabular}\n"
      ],
      "text/markdown": [
       "\n",
       "|  0.4033333  | -0.11000000 |\n",
       "| -0.1100000  |  0.03666667 |\n",
       "\n"
      ],
      "text/plain": [
       "     [,1]       [,2]       \n",
       "[1,]  0.4033333 -0.11000000\n",
       "[2,] -0.1100000  0.03666667"
      ]
     },
     "metadata": {},
     "output_type": "display_data"
    }
   ],
   "source": [
    "variance_b = as.numeric(s2) * part1\n",
    "variance_b"
   ]
  },
  {
   "cell_type": "code",
   "execution_count": 46,
   "id": "9aab0602",
   "metadata": {},
   "outputs": [
    {
     "data": {
      "text/html": [
       "0.19148543025515"
      ],
      "text/latex": [
       "0.19148543025515"
      ],
      "text/markdown": [
       "0.19148543025515"
      ],
      "text/plain": [
       "[1] 0.1914854"
      ]
     },
     "metadata": {},
     "output_type": "display_data"
    }
   ],
   "source": [
    "s_b1 = sqrt(0.03666667)\n",
    "s_b1"
   ]
  },
  {
   "cell_type": "code",
   "execution_count": 48,
   "id": "0f130fc9",
   "metadata": {},
   "outputs": [
    {
     "data": {
      "text/html": [
       "3.65563060890463"
      ],
      "text/latex": [
       "3.65563060890463"
      ],
      "text/markdown": [
       "3.65563060890463"
      ],
      "text/plain": [
       "[1] 3.655631"
      ]
     },
     "metadata": {},
     "output_type": "display_data"
    },
    {
     "data": {
      "text/html": [
       "3.18244630528371"
      ],
      "text/latex": [
       "3.18244630528371"
      ],
      "text/markdown": [
       "3.18244630528371"
      ],
      "text/plain": [
       "[1] 3.182446"
      ]
     },
     "metadata": {},
     "output_type": "display_data"
    }
   ],
   "source": [
    "#t* = b1/s_b1, compare with qt(0.975, 3)\n",
    "# if greater, reject H_0\n",
    "\n",
    "t_star = 0.7/s_b1\n",
    "t_star\n",
    "qt(0.975, 3)\n",
    "# rejct"
   ]
  },
  {
   "cell_type": "markdown",
   "id": "f4ae44e5",
   "metadata": {},
   "source": [
    "confidence interval 𝑌 ̂_ℎ±𝑡(1−𝛼/2;𝑛−2)  𝑠{𝑌 ̂_ℎ }\n"
   ]
  },
  {
   "cell_type": "code",
   "execution_count": 51,
   "id": "28753935",
   "metadata": {},
   "outputs": [
    {
     "data": {
      "text/html": [
       "<table>\n",
       "<tbody>\n",
       "\t<tr><td>1</td></tr>\n",
       "\t<tr><td>4</td></tr>\n",
       "</tbody>\n",
       "</table>\n"
      ],
      "text/latex": [
       "\\begin{tabular}{l}\n",
       "\t 1\\\\\n",
       "\t 4\\\\\n",
       "\\end{tabular}\n"
      ],
      "text/markdown": [
       "\n",
       "| 1 |\n",
       "| 4 |\n",
       "\n"
      ],
      "text/plain": [
       "     [,1]\n",
       "[1,] 1   \n",
       "[2,] 4   "
      ]
     },
     "metadata": {},
     "output_type": "display_data"
    }
   ],
   "source": [
    "Xh = matrix(c(1, 4), 2, 1)\n",
    "Xh"
   ]
  },
  {
   "cell_type": "code",
   "execution_count": 52,
   "id": "c7c2faa9",
   "metadata": {},
   "outputs": [
    {
     "data": {
      "text/html": [
       "<table>\n",
       "<tbody>\n",
       "\t<tr><td>0.3</td></tr>\n",
       "</tbody>\n",
       "</table>\n"
      ],
      "text/latex": [
       "\\begin{tabular}{l}\n",
       "\t 0.3\\\\\n",
       "\\end{tabular}\n"
      ],
      "text/markdown": [
       "\n",
       "| 0.3 |\n",
       "\n"
      ],
      "text/plain": [
       "     [,1]\n",
       "[1,] 0.3 "
      ]
     },
     "metadata": {},
     "output_type": "display_data"
    }
   ],
   "source": [
    "t(Xh) %*% solve(t(X)%*%X) %*% Xh"
   ]
  },
  {
   "cell_type": "code",
   "execution_count": 53,
   "id": "1ab27094",
   "metadata": {},
   "outputs": [
    {
     "data": {
      "text/html": [
       "<table>\n",
       "<tbody>\n",
       "\t<tr><td>0.11</td></tr>\n",
       "</tbody>\n",
       "</table>\n"
      ],
      "text/latex": [
       "\\begin{tabular}{l}\n",
       "\t 0.11\\\\\n",
       "\\end{tabular}\n"
      ],
      "text/markdown": [
       "\n",
       "| 0.11 |\n",
       "\n"
      ],
      "text/plain": [
       "     [,1]\n",
       "[1,] 0.11"
      ]
     },
     "metadata": {},
     "output_type": "display_data"
    }
   ],
   "source": [
    "s2Yh = s2 * 0.3 \n",
    "s2Yh"
   ]
  },
  {
   "cell_type": "code",
   "execution_count": 55,
   "id": "ed9848fd",
   "metadata": {},
   "outputs": [
    {
     "data": {
      "text/html": [
       "<table>\n",
       "<tbody>\n",
       "\t<tr><td>2.7</td></tr>\n",
       "</tbody>\n",
       "</table>\n"
      ],
      "text/latex": [
       "\\begin{tabular}{l}\n",
       "\t 2.7\\\\\n",
       "\\end{tabular}\n"
      ],
      "text/markdown": [
       "\n",
       "| 2.7 |\n",
       "\n"
      ],
      "text/plain": [
       "     [,1]\n",
       "[1,] 2.7 "
      ]
     },
     "metadata": {},
     "output_type": "display_data"
    }
   ],
   "source": [
    "Yh = t(Xh) %*% b\n",
    "Yh"
   ]
  },
  {
   "cell_type": "code",
   "execution_count": 58,
   "id": "4a39b674",
   "metadata": {},
   "outputs": [
    {
     "data": {
      "text/html": [
       "<table>\n",
       "<tbody>\n",
       "\t<tr><td>3.755498</td></tr>\n",
       "</tbody>\n",
       "</table>\n"
      ],
      "text/latex": [
       "\\begin{tabular}{l}\n",
       "\t 3.755498\\\\\n",
       "\\end{tabular}\n"
      ],
      "text/markdown": [
       "\n",
       "| 3.755498 |\n",
       "\n"
      ],
      "text/plain": [
       "     [,1]    \n",
       "[1,] 3.755498"
      ]
     },
     "metadata": {},
     "output_type": "display_data"
    }
   ],
   "source": [
    "Yh + qt(0.975, 3)* sqrt(s2Yh)"
   ]
  },
  {
   "cell_type": "code",
   "execution_count": 59,
   "id": "931d4426",
   "metadata": {},
   "outputs": [
    {
     "data": {
      "text/html": [
       "<table>\n",
       "<tbody>\n",
       "\t<tr><td>1.644502</td></tr>\n",
       "</tbody>\n",
       "</table>\n"
      ],
      "text/latex": [
       "\\begin{tabular}{l}\n",
       "\t 1.644502\\\\\n",
       "\\end{tabular}\n"
      ],
      "text/markdown": [
       "\n",
       "| 1.644502 |\n",
       "\n"
      ],
      "text/plain": [
       "     [,1]    \n",
       "[1,] 1.644502"
      ]
     },
     "metadata": {},
     "output_type": "display_data"
    }
   ],
   "source": [
    "Yh - qt(0.975, 3)* sqrt(s2Yh)"
   ]
  }
 ],
 "metadata": {
  "kernelspec": {
   "display_name": "R",
   "language": "R",
   "name": "ir"
  },
  "language_info": {
   "codemirror_mode": "r",
   "file_extension": ".r",
   "mimetype": "text/x-r-source",
   "name": "R",
   "pygments_lexer": "r",
   "version": "3.6.1"
  }
 },
 "nbformat": 4,
 "nbformat_minor": 5
}
